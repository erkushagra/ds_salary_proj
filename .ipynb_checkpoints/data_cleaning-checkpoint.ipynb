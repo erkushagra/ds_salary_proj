{
 "cells": [
  {
   "cell_type": "code",
   "execution_count": 38,
   "metadata": {},
   "outputs": [],
   "source": [
    "import pandas as pd\n",
    "import matplotlib.pyplot as plt\n",
    "import seaborn as sns  "
   ]
  },
  {
   "cell_type": "code",
   "execution_count": 39,
   "metadata": {},
   "outputs": [],
   "source": [
    "df = pd.read_csv('salary_data_cleaned.csv')"
   ]
  },
  {
   "cell_type": "code",
   "execution_count": 40,
   "metadata": {},
   "outputs": [
    {
     "data": {
      "text/html": [
       "<div>\n",
       "<style scoped>\n",
       "    .dataframe tbody tr th:only-of-type {\n",
       "        vertical-align: middle;\n",
       "    }\n",
       "\n",
       "    .dataframe tbody tr th {\n",
       "        vertical-align: top;\n",
       "    }\n",
       "\n",
       "    .dataframe thead th {\n",
       "        text-align: right;\n",
       "    }\n",
       "</style>\n",
       "<table border=\"1\" class=\"dataframe\">\n",
       "  <thead>\n",
       "    <tr style=\"text-align: right;\">\n",
       "      <th></th>\n",
       "      <th>Job Title</th>\n",
       "      <th>Salary Estimate</th>\n",
       "      <th>Job Description</th>\n",
       "      <th>Company Name</th>\n",
       "      <th>Location</th>\n",
       "      <th>Headquarters</th>\n",
       "      <th>Size</th>\n",
       "      <th>Founded</th>\n",
       "      <th>Type of ownership</th>\n",
       "      <th>Industry</th>\n",
       "      <th>...</th>\n",
       "      <th>max_salary</th>\n",
       "      <th>average_salary</th>\n",
       "      <th>company_text</th>\n",
       "      <th>job_state</th>\n",
       "      <th>age</th>\n",
       "      <th>python_yn</th>\n",
       "      <th>RStudio_yn</th>\n",
       "      <th>spark</th>\n",
       "      <th>aws</th>\n",
       "      <th>excel</th>\n",
       "    </tr>\n",
       "  </thead>\n",
       "  <tbody>\n",
       "    <tr>\n",
       "      <th>0</th>\n",
       "      <td>Data Scientist</td>\n",
       "      <td>$106K-$135K (Glassdoor Est.)</td>\n",
       "      <td>About Netskope\\r\\n\\r\\nToday, there's more data...</td>\n",
       "      <td>Netskope\\r\\n4.2</td>\n",
       "      <td>San Francisco, CA</td>\n",
       "      <td>Santa Clara, CA</td>\n",
       "      <td>501 to 1000 employees</td>\n",
       "      <td>2012</td>\n",
       "      <td>Company - Private</td>\n",
       "      <td>Enterprise Software &amp; Network Solutions</td>\n",
       "      <td>...</td>\n",
       "      <td>135</td>\n",
       "      <td>120.5</td>\n",
       "      <td>Netskope\\r\\n</td>\n",
       "      <td>CA</td>\n",
       "      <td>8</td>\n",
       "      <td>1</td>\n",
       "      <td>0</td>\n",
       "      <td>1</td>\n",
       "      <td>0</td>\n",
       "      <td>1</td>\n",
       "    </tr>\n",
       "    <tr>\n",
       "      <th>1</th>\n",
       "      <td>Data Scientist</td>\n",
       "      <td>$106K-$135K (Glassdoor Est.)</td>\n",
       "      <td>Position Summary\\r\\n\\r\\nWe provide our utility...</td>\n",
       "      <td>Franklin Energy\\r\\n3.5</td>\n",
       "      <td>San Francisco, CA</td>\n",
       "      <td>Port Washington, WI</td>\n",
       "      <td>1001 to 5000 employees</td>\n",
       "      <td>1994</td>\n",
       "      <td>Company - Private</td>\n",
       "      <td>Energy</td>\n",
       "      <td>...</td>\n",
       "      <td>135</td>\n",
       "      <td>120.5</td>\n",
       "      <td>Franklin Energy\\r\\n</td>\n",
       "      <td>CA</td>\n",
       "      <td>26</td>\n",
       "      <td>1</td>\n",
       "      <td>0</td>\n",
       "      <td>0</td>\n",
       "      <td>1</td>\n",
       "      <td>0</td>\n",
       "    </tr>\n",
       "    <tr>\n",
       "      <th>2</th>\n",
       "      <td>Data Scientist, Medidata - Core</td>\n",
       "      <td>$106K-$135K (Glassdoor Est.)</td>\n",
       "      <td>Medidata is leading the digital transformation...</td>\n",
       "      <td>Medidata Solutions\\r\\n4.3</td>\n",
       "      <td>San Francisco, CA</td>\n",
       "      <td>New York, NY</td>\n",
       "      <td>1001 to 5000 employees</td>\n",
       "      <td>1999</td>\n",
       "      <td>Company - Public</td>\n",
       "      <td>Enterprise Software &amp; Network Solutions</td>\n",
       "      <td>...</td>\n",
       "      <td>135</td>\n",
       "      <td>120.5</td>\n",
       "      <td>Medidata Solutions\\r\\n</td>\n",
       "      <td>CA</td>\n",
       "      <td>21</td>\n",
       "      <td>1</td>\n",
       "      <td>0</td>\n",
       "      <td>0</td>\n",
       "      <td>1</td>\n",
       "      <td>0</td>\n",
       "    </tr>\n",
       "    <tr>\n",
       "      <th>3</th>\n",
       "      <td>Data Scientist/Machine Learning</td>\n",
       "      <td>$106K-$135K (Glassdoor Est.)</td>\n",
       "      <td>Data Scientist/Machine Learning\\r\\n\\r\\nMist, a...</td>\n",
       "      <td>Juniper Networks\\r\\n3.8</td>\n",
       "      <td>Cupertino, CA</td>\n",
       "      <td>Sunnyvale, CA</td>\n",
       "      <td>5001 to 10000 employees</td>\n",
       "      <td>1996</td>\n",
       "      <td>Company - Public</td>\n",
       "      <td>Telecommunications Services</td>\n",
       "      <td>...</td>\n",
       "      <td>135</td>\n",
       "      <td>120.5</td>\n",
       "      <td>Juniper Networks\\r\\n</td>\n",
       "      <td>CA</td>\n",
       "      <td>24</td>\n",
       "      <td>1</td>\n",
       "      <td>0</td>\n",
       "      <td>1</td>\n",
       "      <td>1</td>\n",
       "      <td>1</td>\n",
       "    </tr>\n",
       "    <tr>\n",
       "      <th>4</th>\n",
       "      <td>Data Scientist (Data Analytics Specialist)</td>\n",
       "      <td>$106K-$135K (Glassdoor Est.)</td>\n",
       "      <td>The Position\\r\\n\\r\\n\\r\\nAs a Data Analytics Sp...</td>\n",
       "      <td>Genentech\\r\\n4.0</td>\n",
       "      <td>South San Francisco, CA</td>\n",
       "      <td>South San Francisco, CA</td>\n",
       "      <td>10000+ employees</td>\n",
       "      <td>1976</td>\n",
       "      <td>Subsidiary or Business Segment</td>\n",
       "      <td>Biotech &amp; Pharmaceuticals</td>\n",
       "      <td>...</td>\n",
       "      <td>135</td>\n",
       "      <td>120.5</td>\n",
       "      <td>Genentech\\r\\n</td>\n",
       "      <td>CA</td>\n",
       "      <td>44</td>\n",
       "      <td>0</td>\n",
       "      <td>0</td>\n",
       "      <td>0</td>\n",
       "      <td>0</td>\n",
       "      <td>1</td>\n",
       "    </tr>\n",
       "  </tbody>\n",
       "</table>\n",
       "<p>5 rows × 26 columns</p>\n",
       "</div>"
      ],
      "text/plain": [
       "                                    Job Title               Salary Estimate  \\\n",
       "0                              Data Scientist  $106K-$135K (Glassdoor Est.)   \n",
       "1                              Data Scientist  $106K-$135K (Glassdoor Est.)   \n",
       "2             Data Scientist, Medidata - Core  $106K-$135K (Glassdoor Est.)   \n",
       "3             Data Scientist/Machine Learning  $106K-$135K (Glassdoor Est.)   \n",
       "4  Data Scientist (Data Analytics Specialist)  $106K-$135K (Glassdoor Est.)   \n",
       "\n",
       "                                     Job Description  \\\n",
       "0  About Netskope\\r\\n\\r\\nToday, there's more data...   \n",
       "1  Position Summary\\r\\n\\r\\nWe provide our utility...   \n",
       "2  Medidata is leading the digital transformation...   \n",
       "3  Data Scientist/Machine Learning\\r\\n\\r\\nMist, a...   \n",
       "4  The Position\\r\\n\\r\\n\\r\\nAs a Data Analytics Sp...   \n",
       "\n",
       "                Company Name                 Location  \\\n",
       "0            Netskope\\r\\n4.2        San Francisco, CA   \n",
       "1     Franklin Energy\\r\\n3.5        San Francisco, CA   \n",
       "2  Medidata Solutions\\r\\n4.3        San Francisco, CA   \n",
       "3    Juniper Networks\\r\\n3.8            Cupertino, CA   \n",
       "4           Genentech\\r\\n4.0  South San Francisco, CA   \n",
       "\n",
       "              Headquarters                     Size  Founded  \\\n",
       "0          Santa Clara, CA    501 to 1000 employees     2012   \n",
       "1      Port Washington, WI   1001 to 5000 employees     1994   \n",
       "2             New York, NY   1001 to 5000 employees     1999   \n",
       "3            Sunnyvale, CA  5001 to 10000 employees     1996   \n",
       "4  South San Francisco, CA         10000+ employees     1976   \n",
       "\n",
       "                Type of ownership                                 Industry  \\\n",
       "0               Company - Private  Enterprise Software & Network Solutions   \n",
       "1               Company - Private                                   Energy   \n",
       "2                Company - Public  Enterprise Software & Network Solutions   \n",
       "3                Company - Public              Telecommunications Services   \n",
       "4  Subsidiary or Business Segment                Biotech & Pharmaceuticals   \n",
       "\n",
       "   ... max_salary average_salary            company_text  job_state  age  \\\n",
       "0  ...        135          120.5            Netskope\\r\\n         CA    8   \n",
       "1  ...        135          120.5     Franklin Energy\\r\\n         CA   26   \n",
       "2  ...        135          120.5  Medidata Solutions\\r\\n         CA   21   \n",
       "3  ...        135          120.5    Juniper Networks\\r\\n         CA   24   \n",
       "4  ...        135          120.5           Genentech\\r\\n         CA   44   \n",
       "\n",
       "   python_yn  RStudio_yn  spark aws excel  \n",
       "0          1           0      1   0     1  \n",
       "1          1           0      0   1     0  \n",
       "2          1           0      0   1     0  \n",
       "3          1           0      1   1     1  \n",
       "4          0           0      0   0     1  \n",
       "\n",
       "[5 rows x 26 columns]"
      ]
     },
     "execution_count": 40,
     "metadata": {},
     "output_type": "execute_result"
    }
   ],
   "source": [
    "df.head()"
   ]
  },
  {
   "cell_type": "code",
   "execution_count": 41,
   "metadata": {},
   "outputs": [
    {
     "data": {
      "text/plain": [
       "Index(['Job Title', 'Salary Estimate', 'Job Description', 'Company Name',\n",
       "       'Location', 'Headquarters', 'Size', 'Founded', 'Type of ownership',\n",
       "       'Industry', 'Sector', 'Revenue', 'Competitors', 'hourly',\n",
       "       'employer_provided', 'min_salary', 'max_salary', 'average_salary',\n",
       "       'company_text', 'job_state', 'age', 'python_yn', 'RStudio_yn', 'spark',\n",
       "       'aws', 'excel'],\n",
       "      dtype='object')"
      ]
     },
     "execution_count": 41,
     "metadata": {},
     "output_type": "execute_result"
    }
   ],
   "source": [
    "df.columns"
   ]
  },
  {
   "cell_type": "code",
   "execution_count": 42,
   "metadata": {},
   "outputs": [],
   "source": [
    "def title_simplifier(title):\n",
    "    if 'data scientist' in title.lower():\n",
    "        return 'data scientist'\n",
    "    elif 'data engineer' in title.lower():\n",
    "        return 'data engineer'\n",
    "    elif 'analyst' in title.lower():\n",
    "        return 'analyst'\n",
    "    elif 'machine learning' in title.lower():\n",
    "        return 'machine learning'\n",
    "    elif 'manager' in title.lower():\n",
    "        return 'manager'\n",
    "    elif 'director' in title.lower():\n",
    "        return 'director'\n",
    "    else:\n",
    "        return 'na'\n",
    "def seniority(title):\n",
    "    if 'sr' in title.lower() or 'senior' in title.lower() or 'sir' in title.lower() or 'lead' in title.lower() or 'prinicipal' in title.lower():\n",
    "        return 'senior'\n",
    "    elif 'jr' in title.lower() or'jr.' in title.lower():\n",
    "        return  'jr'\n",
    "    else:\n",
    "        return 'na'\n"
   ]
  },
  {
   "cell_type": "code",
   "execution_count": 43,
   "metadata": {},
   "outputs": [],
   "source": [
    "df['job_simp'] = df['Job Title'].apply(title_simplifier)"
   ]
  },
  {
   "cell_type": "code",
   "execution_count": 44,
   "metadata": {},
   "outputs": [
    {
     "data": {
      "text/plain": [
       "data scientist    1000\n",
       "Name: job_simp, dtype: int64"
      ]
     },
     "execution_count": 44,
     "metadata": {},
     "output_type": "execute_result"
    }
   ],
   "source": [
    "df.job_simp.value_counts()"
   ]
  },
  {
   "cell_type": "code",
   "execution_count": 45,
   "metadata": {},
   "outputs": [
    {
     "data": {
      "text/plain": [
       "na        656\n",
       "senior    344\n",
       "Name: seniority, dtype: int64"
      ]
     },
     "execution_count": 45,
     "metadata": {},
     "output_type": "execute_result"
    }
   ],
   "source": [
    "df['seniority'] = df['Job Title'].apply(seniority)\n",
    "df.seniority.value_counts()"
   ]
  },
  {
   "cell_type": "code",
   "execution_count": 46,
   "metadata": {},
   "outputs": [
    {
     "data": {
      "text/plain": [
       "0      4244\n",
       "1      3773\n",
       "2      4937\n",
       "3      2429\n",
       "4      5023\n",
       "       ... \n",
       "995    4452\n",
       "996    3449\n",
       "997    2486\n",
       "998    3425\n",
       "999    4387\n",
       "Name: desc_len, Length: 1000, dtype: int64"
      ]
     },
     "execution_count": 46,
     "metadata": {},
     "output_type": "execute_result"
    }
   ],
   "source": [
    "#job description lenght\n",
    "df['desc_len'] = df['Job Description'].apply(lambda x: len(x))\n",
    "df['desc_len']"
   ]
  },
  {
   "cell_type": "code",
   "execution_count": 47,
   "metadata": {
    "scrolled": true
   },
   "outputs": [],
   "source": [
    "#competitors count\n",
    "#df['Competitors'] = df['Competitors'].apply(lambda x: len(x.split(',')) if x != '-1' else 0)"
   ]
  },
  {
   "cell_type": "code",
   "execution_count": 48,
   "metadata": {},
   "outputs": [
    {
     "data": {
      "text/plain": [
       "0              Skyhigh Networks, Zscaler, NortonLifeLock\n",
       "1                                                     -1\n",
       "2                                                 Oracle\n",
       "3                                                     -1\n",
       "4                                                     -1\n",
       "                             ...                        \n",
       "995                                                   -1\n",
       "996                                                   -1\n",
       "997           TEKsystems, Kforce, Milestone Technologies\n",
       "998                                Square, Amazon, Apple\n",
       "999    CoreLogic, HouseCanary, Pro Teck Valuation Int...\n",
       "Name: Competitors, Length: 1000, dtype: object"
      ]
     },
     "execution_count": 48,
     "metadata": {},
     "output_type": "execute_result"
    }
   ],
   "source": [
    "df['Competitors']"
   ]
  },
  {
   "cell_type": "code",
   "execution_count": 49,
   "metadata": {},
   "outputs": [],
   "source": [
    "#hourly wage to annual\n",
    "df['min_salary']= df.apply(lambda x: x.min_salary*2 if x.hourly ==1 else x.min_salary,axis=1)"
   ]
  },
  {
   "cell_type": "code",
   "execution_count": 50,
   "metadata": {},
   "outputs": [],
   "source": [
    "#df[df.hourly ==0][['hourly','min_salary','max_salary']]"
   ]
  },
  {
   "cell_type": "code",
   "execution_count": 53,
   "metadata": {},
   "outputs": [],
   "source": [
    "df['company_text'] = df.company_text.apply(lambda x: x.replace('\\n',''))\n",
    "df['company_text'] = df.company_text.apply(lambda x: x.replace('\\r',''))"
   ]
  },
  {
   "cell_type": "code",
   "execution_count": 55,
   "metadata": {},
   "outputs": [
    {
     "data": {
      "text/plain": [
       "0                Netskope\n",
       "1         Franklin Energy\n",
       "2      Medidata Solutions\n",
       "3        Juniper Networks\n",
       "4               Genentech\n",
       "              ...        \n",
       "995                   CDK\n",
       "996              Blue Owl\n",
       "997                 Ursus\n",
       "998                PayPal\n",
       "999         Clear Capital\n",
       "Name: company_text, Length: 1000, dtype: object"
      ]
     },
     "execution_count": 55,
     "metadata": {},
     "output_type": "execute_result"
    }
   ],
   "source": [
    "df['company_text']"
   ]
  },
  {
   "cell_type": "code",
   "execution_count": 58,
   "metadata": {},
   "outputs": [
    {
     "data": {
      "text/html": [
       "<div>\n",
       "<style scoped>\n",
       "    .dataframe tbody tr th:only-of-type {\n",
       "        vertical-align: middle;\n",
       "    }\n",
       "\n",
       "    .dataframe tbody tr th {\n",
       "        vertical-align: top;\n",
       "    }\n",
       "\n",
       "    .dataframe thead th {\n",
       "        text-align: right;\n",
       "    }\n",
       "</style>\n",
       "<table border=\"1\" class=\"dataframe\">\n",
       "  <thead>\n",
       "    <tr style=\"text-align: right;\">\n",
       "      <th></th>\n",
       "      <th>Founded</th>\n",
       "      <th>hourly</th>\n",
       "      <th>employer_provided</th>\n",
       "      <th>min_salary</th>\n",
       "      <th>max_salary</th>\n",
       "      <th>average_salary</th>\n",
       "      <th>age</th>\n",
       "      <th>python_yn</th>\n",
       "      <th>RStudio_yn</th>\n",
       "      <th>spark</th>\n",
       "      <th>aws</th>\n",
       "      <th>excel</th>\n",
       "      <th>desc_len</th>\n",
       "    </tr>\n",
       "  </thead>\n",
       "  <tbody>\n",
       "    <tr>\n",
       "      <th>count</th>\n",
       "      <td>1000.000000</td>\n",
       "      <td>1000.0</td>\n",
       "      <td>1000.0</td>\n",
       "      <td>1000.000000</td>\n",
       "      <td>1000.000000</td>\n",
       "      <td>1000.000000</td>\n",
       "      <td>1000.000000</td>\n",
       "      <td>1000.000000</td>\n",
       "      <td>1000.0</td>\n",
       "      <td>1000.000000</td>\n",
       "      <td>1000.000000</td>\n",
       "      <td>1000.000000</td>\n",
       "      <td>1000.000000</td>\n",
       "    </tr>\n",
       "    <tr>\n",
       "      <th>mean</th>\n",
       "      <td>1417.128000</td>\n",
       "      <td>0.0</td>\n",
       "      <td>0.0</td>\n",
       "      <td>129.880000</td>\n",
       "      <td>202.570000</td>\n",
       "      <td>166.225000</td>\n",
       "      <td>18.514000</td>\n",
       "      <td>0.827000</td>\n",
       "      <td>0.0</td>\n",
       "      <td>0.201000</td>\n",
       "      <td>0.283000</td>\n",
       "      <td>0.344000</td>\n",
       "      <td>3522.971000</td>\n",
       "    </tr>\n",
       "    <tr>\n",
       "      <th>std</th>\n",
       "      <td>904.914725</td>\n",
       "      <td>0.0</td>\n",
       "      <td>0.0</td>\n",
       "      <td>18.557208</td>\n",
       "      <td>31.117413</td>\n",
       "      <td>24.474392</td>\n",
       "      <td>27.591141</td>\n",
       "      <td>0.378437</td>\n",
       "      <td>0.0</td>\n",
       "      <td>0.400949</td>\n",
       "      <td>0.450682</td>\n",
       "      <td>0.475279</td>\n",
       "      <td>1152.143864</td>\n",
       "    </tr>\n",
       "    <tr>\n",
       "      <th>min</th>\n",
       "      <td>-1.000000</td>\n",
       "      <td>0.0</td>\n",
       "      <td>0.0</td>\n",
       "      <td>95.000000</td>\n",
       "      <td>135.000000</td>\n",
       "      <td>120.500000</td>\n",
       "      <td>-1.000000</td>\n",
       "      <td>0.000000</td>\n",
       "      <td>0.0</td>\n",
       "      <td>0.000000</td>\n",
       "      <td>0.000000</td>\n",
       "      <td>0.000000</td>\n",
       "      <td>132.000000</td>\n",
       "    </tr>\n",
       "    <tr>\n",
       "      <th>25%</th>\n",
       "      <td>-1.000000</td>\n",
       "      <td>0.0</td>\n",
       "      <td>0.0</td>\n",
       "      <td>130.000000</td>\n",
       "      <td>205.000000</td>\n",
       "      <td>167.500000</td>\n",
       "      <td>-1.000000</td>\n",
       "      <td>1.000000</td>\n",
       "      <td>0.0</td>\n",
       "      <td>0.000000</td>\n",
       "      <td>0.000000</td>\n",
       "      <td>0.000000</td>\n",
       "      <td>2951.250000</td>\n",
       "    </tr>\n",
       "    <tr>\n",
       "      <th>50%</th>\n",
       "      <td>1998.000000</td>\n",
       "      <td>0.0</td>\n",
       "      <td>0.0</td>\n",
       "      <td>130.000000</td>\n",
       "      <td>205.000000</td>\n",
       "      <td>167.500000</td>\n",
       "      <td>9.000000</td>\n",
       "      <td>1.000000</td>\n",
       "      <td>0.0</td>\n",
       "      <td>0.000000</td>\n",
       "      <td>0.000000</td>\n",
       "      <td>0.000000</td>\n",
       "      <td>3449.000000</td>\n",
       "    </tr>\n",
       "    <tr>\n",
       "      <th>75%</th>\n",
       "      <td>2006.000000</td>\n",
       "      <td>0.0</td>\n",
       "      <td>0.0</td>\n",
       "      <td>130.000000</td>\n",
       "      <td>205.000000</td>\n",
       "      <td>167.500000</td>\n",
       "      <td>22.000000</td>\n",
       "      <td>1.000000</td>\n",
       "      <td>0.0</td>\n",
       "      <td>0.000000</td>\n",
       "      <td>1.000000</td>\n",
       "      <td>1.000000</td>\n",
       "      <td>4387.000000</td>\n",
       "    </tr>\n",
       "    <tr>\n",
       "      <th>max</th>\n",
       "      <td>2019.000000</td>\n",
       "      <td>0.0</td>\n",
       "      <td>0.0</td>\n",
       "      <td>212.000000</td>\n",
       "      <td>331.000000</td>\n",
       "      <td>271.500000</td>\n",
       "      <td>338.000000</td>\n",
       "      <td>1.000000</td>\n",
       "      <td>0.0</td>\n",
       "      <td>1.000000</td>\n",
       "      <td>1.000000</td>\n",
       "      <td>1.000000</td>\n",
       "      <td>12034.000000</td>\n",
       "    </tr>\n",
       "  </tbody>\n",
       "</table>\n",
       "</div>"
      ],
      "text/plain": [
       "           Founded  hourly  employer_provided   min_salary   max_salary  \\\n",
       "count  1000.000000  1000.0             1000.0  1000.000000  1000.000000   \n",
       "mean   1417.128000     0.0                0.0   129.880000   202.570000   \n",
       "std     904.914725     0.0                0.0    18.557208    31.117413   \n",
       "min      -1.000000     0.0                0.0    95.000000   135.000000   \n",
       "25%      -1.000000     0.0                0.0   130.000000   205.000000   \n",
       "50%    1998.000000     0.0                0.0   130.000000   205.000000   \n",
       "75%    2006.000000     0.0                0.0   130.000000   205.000000   \n",
       "max    2019.000000     0.0                0.0   212.000000   331.000000   \n",
       "\n",
       "       average_salary          age    python_yn  RStudio_yn        spark  \\\n",
       "count     1000.000000  1000.000000  1000.000000      1000.0  1000.000000   \n",
       "mean       166.225000    18.514000     0.827000         0.0     0.201000   \n",
       "std         24.474392    27.591141     0.378437         0.0     0.400949   \n",
       "min        120.500000    -1.000000     0.000000         0.0     0.000000   \n",
       "25%        167.500000    -1.000000     1.000000         0.0     0.000000   \n",
       "50%        167.500000     9.000000     1.000000         0.0     0.000000   \n",
       "75%        167.500000    22.000000     1.000000         0.0     0.000000   \n",
       "max        271.500000   338.000000     1.000000         0.0     1.000000   \n",
       "\n",
       "               aws        excel      desc_len  \n",
       "count  1000.000000  1000.000000   1000.000000  \n",
       "mean      0.283000     0.344000   3522.971000  \n",
       "std       0.450682     0.475279   1152.143864  \n",
       "min       0.000000     0.000000    132.000000  \n",
       "25%       0.000000     0.000000   2951.250000  \n",
       "50%       0.000000     0.000000   3449.000000  \n",
       "75%       1.000000     1.000000   4387.000000  \n",
       "max       1.000000     1.000000  12034.000000  "
      ]
     },
     "execution_count": 58,
     "metadata": {},
     "output_type": "execute_result"
    }
   ],
   "source": [
    "df.describe()\n"
   ]
  },
  {
   "cell_type": "code",
   "execution_count": 63,
   "metadata": {},
   "outputs": [
    {
     "data": {
      "text/plain": [
       "Index(['Job Title', 'Salary Estimate', 'Job Description', 'Company Name',\n",
       "       'Location', 'Headquarters', 'Size', 'Founded', 'Type of ownership',\n",
       "       'Industry', 'Sector', 'Revenue', 'Competitors', 'hourly',\n",
       "       'employer_provided', 'min_salary', 'max_salary', 'average_salary',\n",
       "       'company_text', 'job_state', 'age', 'python_yn', 'RStudio_yn', 'spark',\n",
       "       'aws', 'excel', 'job_simp', 'seniority', 'desc_len'],\n",
       "      dtype='object')"
      ]
     },
     "execution_count": 63,
     "metadata": {},
     "output_type": "execute_result"
    }
   ],
   "source": [
    "df.columns\n"
   ]
  },
  {
   "cell_type": "code",
   "execution_count": 65,
   "metadata": {},
   "outputs": [
    {
     "data": {
      "text/plain": [
       "<matplotlib.axes._subplots.AxesSubplot at 0x19757382c08>"
      ]
     },
     "execution_count": 65,
     "metadata": {},
     "output_type": "execute_result"
    },
    {
     "data": {
      "image/png": "[encoded data removed]",
      "text/plain": [
       "<Figure size 432x288 with 1 Axes>"
      ]
     },
     "metadata": {
      "needs_background": "light"
     },
     "output_type": "display_data"
    }
   ],
   "source": [
    "df.average_salary.hist()"
   ]
  },
  {
   "cell_type": "code",
   "execution_count": 66,
   "metadata": {},
   "outputs": [
    {
     "data": {
      "text/plain": [
       "<matplotlib.axes._subplots.AxesSubplot at 0x1975747b388>"
      ]
     },
     "execution_count": 66,
     "metadata": {},
     "output_type": "execute_result"
    },
    {
     "data": {
      "image/png": "[encoded data removed]",
      "text/plain": [
       "<Figure size 432x288 with 1 Axes>"
      ]
     },
     "metadata": {
      "needs_background": "light"
     },
     "output_type": "display_data"
    }
   ],
   "source": [
    "df.age.hist()"
   ]
  },
  {
   "cell_type": "code",
   "execution_count": 67,
   "metadata": {},
   "outputs": [
    {
     "data": {
      "text/plain": [
       "<matplotlib.axes._subplots.AxesSubplot at 0x19757558bc8>"
      ]
     },
     "execution_count": 67,
     "metadata": {},
     "output_type": "execute_result"
    },
    {
     "data": {
      "image/png": "[encoded data removed]",
      "text/plain": [
       "<Figure size 432x288 with 1 Axes>"
      ]
     },
     "metadata": {
      "needs_background": "light"
     },
     "output_type": "display_data"
    }
   ],
   "source": [
    "df.desc_len.hist()"
   ]
  }
 ],
 "metadata": {
  "kernelspec": {
   "display_name": "Python 3",
   "language": "python",
   "name": "python3"
  },
  "language_info": {
   "codemirror_mode": {
    "name": "ipython",
    "version": 3
   },
   "file_extension": ".py",
   "mimetype": "text/x-python",
   "name": "python",
   "nbconvert_exporter": "python",
   "pygments_lexer": "ipython3",
   "version": "3.7.6"
  }
 },
 "nbformat": 4,
 "nbformat_minor": 4
}
