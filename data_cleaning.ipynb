{
 "cells": [
  {
   "cell_type": "code",
   "execution_count": 2,
   "metadata": {},
   "outputs": [],
   "source": [
    "import pandas as pd\n",
    "import matplotlib.pyplot as plt\n",
    "import seaborn as sns  "
   ]
  },
  {
   "cell_type": "code",
   "execution_count": 3,
   "metadata": {},
   "outputs": [],
   "source": [
    "df = pd.read_csv('salary_data_cleaned.csv')"
   ]
  },
  {
   "cell_type": "code",
   "execution_count": 6,
   "metadata": {},
   "outputs": [
    {
     "data": {
      "text/html": [
       "<div>\n",
       "<style scoped>\n",
       "    .dataframe tbody tr th:only-of-type {\n",
       "        vertical-align: middle;\n",
       "    }\n",
       "\n",
       "    .dataframe tbody tr th {\n",
       "        vertical-align: top;\n",
       "    }\n",
       "\n",
       "    .dataframe thead th {\n",
       "        text-align: right;\n",
       "    }\n",
       "</style>\n",
       "<table border=\"1\" class=\"dataframe\">\n",
       "  <thead>\n",
       "    <tr style=\"text-align: right;\">\n",
       "      <th></th>\n",
       "      <th>Job Title</th>\n",
       "      <th>Salary Estimate</th>\n",
       "      <th>Job Description</th>\n",
       "      <th>Company Name</th>\n",
       "      <th>Location</th>\n",
       "      <th>Headquarters</th>\n",
       "      <th>Size</th>\n",
       "      <th>Founded</th>\n",
       "      <th>Type of ownership</th>\n",
       "      <th>Industry</th>\n",
       "      <th>...</th>\n",
       "      <th>max_salary</th>\n",
       "      <th>average_salary</th>\n",
       "      <th>company_text</th>\n",
       "      <th>job_state</th>\n",
       "      <th>age</th>\n",
       "      <th>python_yn</th>\n",
       "      <th>RStudio_yn</th>\n",
       "      <th>spark</th>\n",
       "      <th>aws</th>\n",
       "      <th>excel</th>\n",
       "    </tr>\n",
       "  </thead>\n",
       "  <tbody>\n",
       "    <tr>\n",
       "      <th>0</th>\n",
       "      <td>Data Scientist</td>\n",
       "      <td>$106K-$135K (Glassdoor Est.)</td>\n",
       "      <td>About Netskope\\r\\n\\r\\nToday, there's more data...</td>\n",
       "      <td>Netskope\\r\\n4.2</td>\n",
       "      <td>San Francisco, CA</td>\n",
       "      <td>Santa Clara, CA</td>\n",
       "      <td>501 to 1000 employees</td>\n",
       "      <td>2012</td>\n",
       "      <td>Company - Private</td>\n",
       "      <td>Enterprise Software &amp; Network Solutions</td>\n",
       "      <td>...</td>\n",
       "      <td>135</td>\n",
       "      <td>120.5</td>\n",
       "      <td>Netskope\\r\\n</td>\n",
       "      <td>CA</td>\n",
       "      <td>8</td>\n",
       "      <td>1</td>\n",
       "      <td>0</td>\n",
       "      <td>1</td>\n",
       "      <td>0</td>\n",
       "      <td>1</td>\n",
       "    </tr>\n",
       "    <tr>\n",
       "      <th>1</th>\n",
       "      <td>Data Scientist</td>\n",
       "      <td>$106K-$135K (Glassdoor Est.)</td>\n",
       "      <td>Position Summary\\r\\n\\r\\nWe provide our utility...</td>\n",
       "      <td>Franklin Energy\\r\\n3.5</td>\n",
       "      <td>San Francisco, CA</td>\n",
       "      <td>Port Washington, WI</td>\n",
       "      <td>1001 to 5000 employees</td>\n",
       "      <td>1994</td>\n",
       "      <td>Company - Private</td>\n",
       "      <td>Energy</td>\n",
       "      <td>...</td>\n",
       "      <td>135</td>\n",
       "      <td>120.5</td>\n",
       "      <td>Franklin Energy\\r\\n</td>\n",
       "      <td>CA</td>\n",
       "      <td>26</td>\n",
       "      <td>1</td>\n",
       "      <td>0</td>\n",
       "      <td>0</td>\n",
       "      <td>1</td>\n",
       "      <td>0</td>\n",
       "    </tr>\n",
       "    <tr>\n",
       "      <th>2</th>\n",
       "      <td>Data Scientist, Medidata - Core</td>\n",
       "      <td>$106K-$135K (Glassdoor Est.)</td>\n",
       "      <td>Medidata is leading the digital transformation...</td>\n",
       "      <td>Medidata Solutions\\r\\n4.3</td>\n",
       "      <td>San Francisco, CA</td>\n",
       "      <td>New York, NY</td>\n",
       "      <td>1001 to 5000 employees</td>\n",
       "      <td>1999</td>\n",
       "      <td>Company - Public</td>\n",
       "      <td>Enterprise Software &amp; Network Solutions</td>\n",
       "      <td>...</td>\n",
       "      <td>135</td>\n",
       "      <td>120.5</td>\n",
       "      <td>Medidata Solutions\\r\\n</td>\n",
       "      <td>CA</td>\n",
       "      <td>21</td>\n",
       "      <td>1</td>\n",
       "      <td>0</td>\n",
       "      <td>0</td>\n",
       "      <td>1</td>\n",
       "      <td>0</td>\n",
       "    </tr>\n",
       "    <tr>\n",
       "      <th>3</th>\n",
       "      <td>Data Scientist/Machine Learning</td>\n",
       "      <td>$106K-$135K (Glassdoor Est.)</td>\n",
       "      <td>Data Scientist/Machine Learning\\r\\n\\r\\nMist, a...</td>\n",
       "      <td>Juniper Networks\\r\\n3.8</td>\n",
       "      <td>Cupertino, CA</td>\n",
       "      <td>Sunnyvale, CA</td>\n",
       "      <td>5001 to 10000 employees</td>\n",
       "      <td>1996</td>\n",
       "      <td>Company - Public</td>\n",
       "      <td>Telecommunications Services</td>\n",
       "      <td>...</td>\n",
       "      <td>135</td>\n",
       "      <td>120.5</td>\n",
       "      <td>Juniper Networks\\r\\n</td>\n",
       "      <td>CA</td>\n",
       "      <td>24</td>\n",
       "      <td>1</td>\n",
       "      <td>0</td>\n",
       "      <td>1</td>\n",
       "      <td>1</td>\n",
       "      <td>1</td>\n",
       "    </tr>\n",
       "    <tr>\n",
       "      <th>4</th>\n",
       "      <td>Data Scientist (Data Analytics Specialist)</td>\n",
       "      <td>$106K-$135K (Glassdoor Est.)</td>\n",
       "      <td>The Position\\r\\n\\r\\n\\r\\nAs a Data Analytics Sp...</td>\n",
       "      <td>Genentech\\r\\n4.0</td>\n",
       "      <td>South San Francisco, CA</td>\n",
       "      <td>South San Francisco, CA</td>\n",
       "      <td>10000+ employees</td>\n",
       "      <td>1976</td>\n",
       "      <td>Subsidiary or Business Segment</td>\n",
       "      <td>Biotech &amp; Pharmaceuticals</td>\n",
       "      <td>...</td>\n",
       "      <td>135</td>\n",
       "      <td>120.5</td>\n",
       "      <td>Genentech\\r\\n</td>\n",
       "      <td>CA</td>\n",
       "      <td>44</td>\n",
       "      <td>0</td>\n",
       "      <td>0</td>\n",
       "      <td>0</td>\n",
       "      <td>0</td>\n",
       "      <td>1</td>\n",
       "    </tr>\n",
       "  </tbody>\n",
       "</table>\n",
       "<p>5 rows × 26 columns</p>\n",
       "</div>"
      ],
      "text/plain": [
       "                                    Job Title               Salary Estimate  \\\n",
       "0                              Data Scientist  $106K-$135K (Glassdoor Est.)   \n",
       "1                              Data Scientist  $106K-$135K (Glassdoor Est.)   \n",
       "2             Data Scientist, Medidata - Core  $106K-$135K (Glassdoor Est.)   \n",
       "3             Data Scientist/Machine Learning  $106K-$135K (Glassdoor Est.)   \n",
       "4  Data Scientist (Data Analytics Specialist)  $106K-$135K (Glassdoor Est.)   \n",
       "\n",
       "                                     Job Description  \\\n",
       "0  About Netskope\\r\\n\\r\\nToday, there's more data...   \n",
       "1  Position Summary\\r\\n\\r\\nWe provide our utility...   \n",
       "2  Medidata is leading the digital transformation...   \n",
       "3  Data Scientist/Machine Learning\\r\\n\\r\\nMist, a...   \n",
       "4  The Position\\r\\n\\r\\n\\r\\nAs a Data Analytics Sp...   \n",
       "\n",
       "                Company Name                 Location  \\\n",
       "0            Netskope\\r\\n4.2        San Francisco, CA   \n",
       "1     Franklin Energy\\r\\n3.5        San Francisco, CA   \n",
       "2  Medidata Solutions\\r\\n4.3        San Francisco, CA   \n",
       "3    Juniper Networks\\r\\n3.8            Cupertino, CA   \n",
       "4           Genentech\\r\\n4.0  South San Francisco, CA   \n",
       "\n",
       "              Headquarters                     Size  Founded  \\\n",
       "0          Santa Clara, CA    501 to 1000 employees     2012   \n",
       "1      Port Washington, WI   1001 to 5000 employees     1994   \n",
       "2             New York, NY   1001 to 5000 employees     1999   \n",
       "3            Sunnyvale, CA  5001 to 10000 employees     1996   \n",
       "4  South San Francisco, CA         10000+ employees     1976   \n",
       "\n",
       "                Type of ownership                                 Industry  \\\n",
       "0               Company - Private  Enterprise Software & Network Solutions   \n",
       "1               Company - Private                                   Energy   \n",
       "2                Company - Public  Enterprise Software & Network Solutions   \n",
       "3                Company - Public              Telecommunications Services   \n",
       "4  Subsidiary or Business Segment                Biotech & Pharmaceuticals   \n",
       "\n",
       "   ... max_salary average_salary            company_text  job_state  age  \\\n",
       "0  ...        135          120.5            Netskope\\r\\n         CA    8   \n",
       "1  ...        135          120.5     Franklin Energy\\r\\n         CA   26   \n",
       "2  ...        135          120.5  Medidata Solutions\\r\\n         CA   21   \n",
       "3  ...        135          120.5    Juniper Networks\\r\\n         CA   24   \n",
       "4  ...        135          120.5           Genentech\\r\\n         CA   44   \n",
       "\n",
       "   python_yn  RStudio_yn  spark aws excel  \n",
       "0          1           0      1   0     1  \n",
       "1          1           0      0   1     0  \n",
       "2          1           0      0   1     0  \n",
       "3          1           0      1   1     1  \n",
       "4          0           0      0   0     1  \n",
       "\n",
       "[5 rows x 26 columns]"
      ]
     },
     "execution_count": 6,
     "metadata": {},
     "output_type": "execute_result"
    }
   ],
   "source": [
    "df.head()"
   ]
  },
  {
   "cell_type": "code",
   "execution_count": 7,
   "metadata": {},
   "outputs": [
    {
     "data": {
      "text/plain": [
       "Index(['Job Title', 'Salary Estimate', 'Job Description', 'Company Name',\n",
       "       'Location', 'Headquarters', 'Size', 'Founded', 'Type of ownership',\n",
       "       'Industry', 'Sector', 'Revenue', 'Competitors', 'hourly',\n",
       "       'employer_provided', 'min_salary', 'max_salary', 'average_salary',\n",
       "       'company_text', 'job_state', 'age', 'python_yn', 'RStudio_yn', 'spark',\n",
       "       'aws', 'excel'],\n",
       "      dtype='object')"
      ]
     },
     "execution_count": 7,
     "metadata": {},
     "output_type": "execute_result"
    }
   ],
   "source": [
    "df.columns"
   ]
  },
  {
   "cell_type": "code",
   "execution_count": 8,
   "metadata": {},
   "outputs": [],
   "source": [
    "def title_simplifier(title):\n",
    "    if 'data scientist' in title.lower():\n",
    "        return 'data scientist'\n",
    "    elif 'data engineer' in title.lower():\n",
    "        return 'data engineer'\n",
    "    elif 'analyst' in title.lower():\n",
    "        return 'analyst'\n",
    "    elif 'machine learning' in title.lower():\n",
    "        return 'machine learning'\n",
    "    elif 'manager' in title.lower():\n",
    "        return 'manager'\n",
    "    elif 'director' in title.lower():\n",
    "        return 'director'\n",
    "    else:\n",
    "        return 'na'\n",
    "def seniority(title):\n",
    "    if 'sr' in title.lower() or 'senior' in title.lower() or 'sir' in title.lower() or 'lead' in title.lower() or 'prinicipal' in title.lower():\n",
    "        return 'senior'\n",
    "    elif 'jr' in title.lower() or'jr.' in title.lower():\n",
    "        return  'jr'\n",
    "    else:\n",
    "        return 'na'\n"
   ]
  },
  {
   "cell_type": "code",
   "execution_count": 9,
   "metadata": {},
   "outputs": [],
   "source": [
    "df['job_simp'] = df['Job Title'].apply(title_simplifier)"
   ]
  },
  {
   "cell_type": "code",
   "execution_count": 10,
   "metadata": {},
   "outputs": [
    {
     "data": {
      "text/plain": [
       "data scientist    1000\n",
       "Name: job_simp, dtype: int64"
      ]
     },
     "execution_count": 10,
     "metadata": {},
     "output_type": "execute_result"
    }
   ],
   "source": [
    "df.job_simp.value_counts()"
   ]
  },
  {
   "cell_type": "code",
   "execution_count": 11,
   "metadata": {},
   "outputs": [
    {
     "data": {
      "text/plain": [
       "na        656\n",
       "senior    344\n",
       "Name: seniority, dtype: int64"
      ]
     },
     "execution_count": 11,
     "metadata": {},
     "output_type": "execute_result"
    }
   ],
   "source": [
    "df['seniority'] = df['Job Title'].apply(seniority)\n",
    "df.seniority.value_counts()"
   ]
  },
  {
   "cell_type": "code",
   "execution_count": 12,
   "metadata": {},
   "outputs": [
    {
     "data": {
      "text/plain": [
       "0      4244\n",
       "1      3773\n",
       "2      4937\n",
       "3      2429\n",
       "4      5023\n",
       "       ... \n",
       "995    4452\n",
       "996    3449\n",
       "997    2486\n",
       "998    3425\n",
       "999    4387\n",
       "Name: desc_len, Length: 1000, dtype: int64"
      ]
     },
     "execution_count": 12,
     "metadata": {},
     "output_type": "execute_result"
    }
   ],
   "source": [
    "#job description lenght\n",
    "df['desc_len'] = df['Job Description'].apply(lambda x: len(x))\n",
    "df['desc_len']"
   ]
  },
  {
   "cell_type": "code",
   "execution_count": 13,
   "metadata": {
    "scrolled": true
   },
   "outputs": [],
   "source": [
    "#competitors count\n",
    "#df['Competitors'] = df['Competitors'].apply(lambda x: len(x.split(',')) if x != '-1' else 0)"
   ]
  },
  {
   "cell_type": "code",
   "execution_count": 14,
   "metadata": {},
   "outputs": [
    {
     "data": {
      "text/plain": [
       "0              Skyhigh Networks, Zscaler, NortonLifeLock\n",
       "1                                                     -1\n",
       "2                                                 Oracle\n",
       "3                                                     -1\n",
       "4                                                     -1\n",
       "                             ...                        \n",
       "995                                                   -1\n",
       "996                                                   -1\n",
       "997           TEKsystems, Kforce, Milestone Technologies\n",
       "998                                Square, Amazon, Apple\n",
       "999    CoreLogic, HouseCanary, Pro Teck Valuation Int...\n",
       "Name: Competitors, Length: 1000, dtype: object"
      ]
     },
     "execution_count": 14,
     "metadata": {},
     "output_type": "execute_result"
    }
   ],
   "source": [
    "df['Competitors']"
   ]
  },
  {
   "cell_type": "code",
   "execution_count": 15,
   "metadata": {},
   "outputs": [],
   "source": [
    "#hourly wage to annual\n",
    "df['min_salary']= df.apply(lambda x: x.min_salary*2 if x.hourly ==1 else x.min_salary,axis=1)"
   ]
  },
  {
   "cell_type": "code",
   "execution_count": 16,
   "metadata": {},
   "outputs": [],
   "source": [
    "#df[df.hourly ==0][['hourly','min_salary','max_salary']]"
   ]
  },
  {
   "cell_type": "code",
   "execution_count": 17,
   "metadata": {},
   "outputs": [],
   "source": [
    "df['company_text'] = df.company_text.apply(lambda x: x.replace('\\n',''))\n",
    "df['company_text'] = df.company_text.apply(lambda x: x.replace('\\r',''))"
   ]
  },
  {
   "cell_type": "code",
   "execution_count": 18,
   "metadata": {},
   "outputs": [
    {
     "data": {
      "text/plain": [
       "0                Netskope\n",
       "1         Franklin Energy\n",
       "2      Medidata Solutions\n",
       "3        Juniper Networks\n",
       "4               Genentech\n",
       "              ...        \n",
       "995                   CDK\n",
       "996              Blue Owl\n",
       "997                 Ursus\n",
       "998                PayPal\n",
       "999         Clear Capital\n",
       "Name: company_text, Length: 1000, dtype: object"
      ]
     },
     "execution_count": 18,
     "metadata": {},
     "output_type": "execute_result"
    }
   ],
   "source": [
    "df['company_text']"
   ]
  },
  {
   "cell_type": "code",
   "execution_count": 19,
   "metadata": {},
   "outputs": [
    {
     "data": {
      "text/html": [
       "<div>\n",
       "<style scoped>\n",
       "    .dataframe tbody tr th:only-of-type {\n",
       "        vertical-align: middle;\n",
       "    }\n",
       "\n",
       "    .dataframe tbody tr th {\n",
       "        vertical-align: top;\n",
       "    }\n",
       "\n",
       "    .dataframe thead th {\n",
       "        text-align: right;\n",
       "    }\n",
       "</style>\n",
       "<table border=\"1\" class=\"dataframe\">\n",
       "  <thead>\n",
       "    <tr style=\"text-align: right;\">\n",
       "      <th></th>\n",
       "      <th>Founded</th>\n",
       "      <th>hourly</th>\n",
       "      <th>employer_provided</th>\n",
       "      <th>min_salary</th>\n",
       "      <th>max_salary</th>\n",
       "      <th>average_salary</th>\n",
       "      <th>age</th>\n",
       "      <th>python_yn</th>\n",
       "      <th>RStudio_yn</th>\n",
       "      <th>spark</th>\n",
       "      <th>aws</th>\n",
       "      <th>excel</th>\n",
       "      <th>desc_len</th>\n",
       "    </tr>\n",
       "  </thead>\n",
       "  <tbody>\n",
       "    <tr>\n",
       "      <th>count</th>\n",
       "      <td>1000.000000</td>\n",
       "      <td>1000.0</td>\n",
       "      <td>1000.0</td>\n",
       "      <td>1000.000000</td>\n",
       "      <td>1000.000000</td>\n",
       "      <td>1000.000000</td>\n",
       "      <td>1000.000000</td>\n",
       "      <td>1000.000000</td>\n",
       "      <td>1000.0</td>\n",
       "      <td>1000.000000</td>\n",
       "      <td>1000.000000</td>\n",
       "      <td>1000.000000</td>\n",
       "      <td>1000.000000</td>\n",
       "    </tr>\n",
       "    <tr>\n",
       "      <th>mean</th>\n",
       "      <td>1417.128000</td>\n",
       "      <td>0.0</td>\n",
       "      <td>0.0</td>\n",
       "      <td>129.880000</td>\n",
       "      <td>202.570000</td>\n",
       "      <td>166.225000</td>\n",
       "      <td>18.514000</td>\n",
       "      <td>0.827000</td>\n",
       "      <td>0.0</td>\n",
       "      <td>0.201000</td>\n",
       "      <td>0.283000</td>\n",
       "      <td>0.344000</td>\n",
       "      <td>3522.971000</td>\n",
       "    </tr>\n",
       "    <tr>\n",
       "      <th>std</th>\n",
       "      <td>904.914725</td>\n",
       "      <td>0.0</td>\n",
       "      <td>0.0</td>\n",
       "      <td>18.557208</td>\n",
       "      <td>31.117413</td>\n",
       "      <td>24.474392</td>\n",
       "      <td>27.591141</td>\n",
       "      <td>0.378437</td>\n",
       "      <td>0.0</td>\n",
       "      <td>0.400949</td>\n",
       "      <td>0.450682</td>\n",
       "      <td>0.475279</td>\n",
       "      <td>1152.143864</td>\n",
       "    </tr>\n",
       "    <tr>\n",
       "      <th>min</th>\n",
       "      <td>-1.000000</td>\n",
       "      <td>0.0</td>\n",
       "      <td>0.0</td>\n",
       "      <td>95.000000</td>\n",
       "      <td>135.000000</td>\n",
       "      <td>120.500000</td>\n",
       "      <td>-1.000000</td>\n",
       "      <td>0.000000</td>\n",
       "      <td>0.0</td>\n",
       "      <td>0.000000</td>\n",
       "      <td>0.000000</td>\n",
       "      <td>0.000000</td>\n",
       "      <td>132.000000</td>\n",
       "    </tr>\n",
       "    <tr>\n",
       "      <th>25%</th>\n",
       "      <td>-1.000000</td>\n",
       "      <td>0.0</td>\n",
       "      <td>0.0</td>\n",
       "      <td>130.000000</td>\n",
       "      <td>205.000000</td>\n",
       "      <td>167.500000</td>\n",
       "      <td>-1.000000</td>\n",
       "      <td>1.000000</td>\n",
       "      <td>0.0</td>\n",
       "      <td>0.000000</td>\n",
       "      <td>0.000000</td>\n",
       "      <td>0.000000</td>\n",
       "      <td>2951.250000</td>\n",
       "    </tr>\n",
       "    <tr>\n",
       "      <th>50%</th>\n",
       "      <td>1998.000000</td>\n",
       "      <td>0.0</td>\n",
       "      <td>0.0</td>\n",
       "      <td>130.000000</td>\n",
       "      <td>205.000000</td>\n",
       "      <td>167.500000</td>\n",
       "      <td>9.000000</td>\n",
       "      <td>1.000000</td>\n",
       "      <td>0.0</td>\n",
       "      <td>0.000000</td>\n",
       "      <td>0.000000</td>\n",
       "      <td>0.000000</td>\n",
       "      <td>3449.000000</td>\n",
       "    </tr>\n",
       "    <tr>\n",
       "      <th>75%</th>\n",
       "      <td>2006.000000</td>\n",
       "      <td>0.0</td>\n",
       "      <td>0.0</td>\n",
       "      <td>130.000000</td>\n",
       "      <td>205.000000</td>\n",
       "      <td>167.500000</td>\n",
       "      <td>22.000000</td>\n",
       "      <td>1.000000</td>\n",
       "      <td>0.0</td>\n",
       "      <td>0.000000</td>\n",
       "      <td>1.000000</td>\n",
       "      <td>1.000000</td>\n",
       "      <td>4387.000000</td>\n",
       "    </tr>\n",
       "    <tr>\n",
       "      <th>max</th>\n",
       "      <td>2019.000000</td>\n",
       "      <td>0.0</td>\n",
       "      <td>0.0</td>\n",
       "      <td>212.000000</td>\n",
       "      <td>331.000000</td>\n",
       "      <td>271.500000</td>\n",
       "      <td>338.000000</td>\n",
       "      <td>1.000000</td>\n",
       "      <td>0.0</td>\n",
       "      <td>1.000000</td>\n",
       "      <td>1.000000</td>\n",
       "      <td>1.000000</td>\n",
       "      <td>12034.000000</td>\n",
       "    </tr>\n",
       "  </tbody>\n",
       "</table>\n",
       "</div>"
      ],
      "text/plain": [
       "           Founded  hourly  employer_provided   min_salary   max_salary  \\\n",
       "count  1000.000000  1000.0             1000.0  1000.000000  1000.000000   \n",
       "mean   1417.128000     0.0                0.0   129.880000   202.570000   \n",
       "std     904.914725     0.0                0.0    18.557208    31.117413   \n",
       "min      -1.000000     0.0                0.0    95.000000   135.000000   \n",
       "25%      -1.000000     0.0                0.0   130.000000   205.000000   \n",
       "50%    1998.000000     0.0                0.0   130.000000   205.000000   \n",
       "75%    2006.000000     0.0                0.0   130.000000   205.000000   \n",
       "max    2019.000000     0.0                0.0   212.000000   331.000000   \n",
       "\n",
       "       average_salary          age    python_yn  RStudio_yn        spark  \\\n",
       "count     1000.000000  1000.000000  1000.000000      1000.0  1000.000000   \n",
       "mean       166.225000    18.514000     0.827000         0.0     0.201000   \n",
       "std         24.474392    27.591141     0.378437         0.0     0.400949   \n",
       "min        120.500000    -1.000000     0.000000         0.0     0.000000   \n",
       "25%        167.500000    -1.000000     1.000000         0.0     0.000000   \n",
       "50%        167.500000     9.000000     1.000000         0.0     0.000000   \n",
       "75%        167.500000    22.000000     1.000000         0.0     0.000000   \n",
       "max        271.500000   338.000000     1.000000         0.0     1.000000   \n",
       "\n",
       "               aws        excel      desc_len  \n",
       "count  1000.000000  1000.000000   1000.000000  \n",
       "mean      0.283000     0.344000   3522.971000  \n",
       "std       0.450682     0.475279   1152.143864  \n",
       "min       0.000000     0.000000    132.000000  \n",
       "25%       0.000000     0.000000   2951.250000  \n",
       "50%       0.000000     0.000000   3449.000000  \n",
       "75%       1.000000     1.000000   4387.000000  \n",
       "max       1.000000     1.000000  12034.000000  "
      ]
     },
     "execution_count": 19,
     "metadata": {},
     "output_type": "execute_result"
    }
   ],
   "source": [
    "df.describe()\n"
   ]
  },
  {
   "cell_type": "code",
   "execution_count": 20,
   "metadata": {},
   "outputs": [
    {
     "data": {
      "text/plain": [
       "Index(['Job Title', 'Salary Estimate', 'Job Description', 'Company Name',\n",
       "       'Location', 'Headquarters', 'Size', 'Founded', 'Type of ownership',\n",
       "       'Industry', 'Sector', 'Revenue', 'Competitors', 'hourly',\n",
       "       'employer_provided', 'min_salary', 'max_salary', 'average_salary',\n",
       "       'company_text', 'job_state', 'age', 'python_yn', 'RStudio_yn', 'spark',\n",
       "       'aws', 'excel', 'job_simp', 'seniority', 'desc_len'],\n",
       "      dtype='object')"
      ]
     },
     "execution_count": 20,
     "metadata": {},
     "output_type": "execute_result"
    }
   ],
   "source": [
    "df.columns\n"
   ]
  },
  {
   "cell_type": "code",
   "execution_count": 21,
   "metadata": {},
   "outputs": [
    {
     "data": {
      "text/plain": [
       "<matplotlib.axes._subplots.AxesSubplot at 0x1c12ac8c388>"
      ]
     },
     "execution_count": 21,
     "metadata": {},
     "output_type": "execute_result"
    },
    {
     "data": {
      "image/png": "[encoded data removed]",
      "text/plain": [
       "<Figure size 432x288 with 1 Axes>"
      ]
     },
     "metadata": {
      "needs_background": "light"
     },
     "output_type": "display_data"
    }
   ],
   "source": [
    "df.average_salary.hist()"
   ]
  },
  {
   "cell_type": "code",
   "execution_count": 22,
   "metadata": {},
   "outputs": [
    {
     "data": {
      "text/plain": [
       "<matplotlib.axes._subplots.AxesSubplot at 0x1c12b40e4c8>"
      ]
     },
     "execution_count": 22,
     "metadata": {},
     "output_type": "execute_result"
    },
    {
     "data": {
      "image/png": "[encoded data removed]",
      "text/plain": [
       "<Figure size 432x288 with 1 Axes>"
      ]
     },
     "metadata": {
      "needs_background": "light"
     },
     "output_type": "display_data"
    }
   ],
   "source": [
    "df.age.hist()"
   ]
  },
  {
   "cell_type": "code",
   "execution_count": 23,
   "metadata": {},
   "outputs": [
    {
     "data": {
      "text/plain": [
       "<matplotlib.axes._subplots.AxesSubplot at 0x1c12b4af188>"
      ]
     },
     "execution_count": 23,
     "metadata": {},
     "output_type": "execute_result"
    },
    {
     "data": {
      "image/png": "[encoded data removed]",
      "text/plain": [
       "<Figure size 432x288 with 1 Axes>"
      ]
     },
     "metadata": {
      "needs_background": "light"
     },
     "output_type": "display_data"
    }
   ],
   "source": [
    "df.desc_len.hist()"
   ]
  },
  {
   "cell_type": "code",
   "execution_count": 24,
   "metadata": {},
   "outputs": [
    {
     "data": {
      "text/plain": [
       "<matplotlib.axes._subplots.AxesSubplot at 0x1c12b3cae88>"
      ]
     },
     "execution_count": 24,
     "metadata": {},
     "output_type": "execute_result"
    },
    {
     "data": {
      "image/png": "[encoded data removed]",
      "text/plain": [
       "<Figure size 432x288 with 1 Axes>"
      ]
     },
     "metadata": {
      "needs_background": "light"
     },
     "output_type": "display_data"
    }
   ],
   "source": [
    "df.boxplot(column = ['age', 'average_salary'])"
   ]
  },
  {
   "cell_type": "code",
   "execution_count": 25,
   "metadata": {},
   "outputs": [
    {
     "data": {
      "text/html": [
       "<div>\n",
       "<style scoped>\n",
       "    .dataframe tbody tr th:only-of-type {\n",
       "        vertical-align: middle;\n",
       "    }\n",
       "\n",
       "    .dataframe tbody tr th {\n",
       "        vertical-align: top;\n",
       "    }\n",
       "\n",
       "    .dataframe thead th {\n",
       "        text-align: right;\n",
       "    }\n",
       "</style>\n",
       "<table border=\"1\" class=\"dataframe\">\n",
       "  <thead>\n",
       "    <tr style=\"text-align: right;\">\n",
       "      <th></th>\n",
       "      <th>age</th>\n",
       "      <th>average_salary</th>\n",
       "      <th>desc_len</th>\n",
       "    </tr>\n",
       "  </thead>\n",
       "  <tbody>\n",
       "    <tr>\n",
       "      <th>age</th>\n",
       "      <td>1.000000</td>\n",
       "      <td>0.002622</td>\n",
       "      <td>0.132123</td>\n",
       "    </tr>\n",
       "    <tr>\n",
       "      <th>average_salary</th>\n",
       "      <td>0.002622</td>\n",
       "      <td>1.000000</td>\n",
       "      <td>-0.059962</td>\n",
       "    </tr>\n",
       "    <tr>\n",
       "      <th>desc_len</th>\n",
       "      <td>0.132123</td>\n",
       "      <td>-0.059962</td>\n",
       "      <td>1.000000</td>\n",
       "    </tr>\n",
       "  </tbody>\n",
       "</table>\n",
       "</div>"
      ],
      "text/plain": [
       "                     age  average_salary  desc_len\n",
       "age             1.000000        0.002622  0.132123\n",
       "average_salary  0.002622        1.000000 -0.059962\n",
       "desc_len        0.132123       -0.059962  1.000000"
      ]
     },
     "execution_count": 25,
     "metadata": {},
     "output_type": "execute_result"
    }
   ],
   "source": [
    "df[['age', 'average_salary','desc_len']].corr()"
   ]
  },
  {
   "cell_type": "code",
   "execution_count": 26,
   "metadata": {},
   "outputs": [
    {
     "data": {
      "text/plain": [
       "<matplotlib.axes._subplots.AxesSubplot at 0x1c12b628548>"
      ]
     },
     "execution_count": 26,
     "metadata": {},
     "output_type": "execute_result"
    },
    {
     "data": {
      "image/png": "[encoded data removed]",
      "text/plain": [
       "<Figure size 432x288 with 2 Axes>"
      ]
     },
     "metadata": {
      "needs_background": "light"
     },
     "output_type": "display_data"
    }
   ],
   "source": [
    "cmap= sns.diverging_palette(220,10,as_cmap= True)\n",
    "sns.heatmap(df[['age','average_salary','desc_len']].corr(),vmax=.3,center=0,cmap=cmap,\n",
    "           square=True, linewidth=.5,cbar_kws={\"shrink\": .5})"
   ]
  },
  {
   "cell_type": "code",
   "execution_count": 27,
   "metadata": {},
   "outputs": [],
   "source": [
    "df_cat=df[[ 'Job Description', 'Company Name', 'python_yn', 'RStudio_yn', 'spark',\n",
    "       'aws', 'excel',]]"
   ]
  },
  {
   "cell_type": "code",
   "execution_count": 28,
   "metadata": {
    "scrolled": false
   },
   "outputs": [],
   "source": [
    "#for i in df_cat.columns:\n",
    "    #cat_num=df_cat[i].value_counts()\n",
    "   # print(\"graph for %s: total = %d\" % (i,len(cat_num)))\n",
    "  #  chart = sns.barplot(x = cat_num.index, y=cat_num)\n",
    " #   chart.set_xticklabels(chart.get_xticklabels(), rotation = 90)\n",
    "#    plt.show() "
   ]
  },
  {
   "cell_type": "code",
   "execution_count": 29,
   "metadata": {},
   "outputs": [],
   "source": [
    "#for i in df_cat[['Location ','Headquarters','compnay_text']].columns:\n",
    " #   cat_num=df_cat[i].value_counts()[:20]\n",
    "  #  print(\"graph for %s: total = %d\" % (i,len(cat_num)))\n",
    "   # chart = sns.barplot(x = cat_num.index, y=cat_num)\n",
    "    #chart.set_xticklabels(chart.get_xticklabels(), rotation = 90)\n",
    "    #plt.show()"
   ]
  },
  {
   "cell_type": "code",
   "execution_count": 34,
   "metadata": {},
   "outputs": [
    {
     "data": {
      "text/html": [
       "<div>\n",
       "<style scoped>\n",
       "    .dataframe tbody tr th:only-of-type {\n",
       "        vertical-align: middle;\n",
       "    }\n",
       "\n",
       "    .dataframe tbody tr th {\n",
       "        vertical-align: top;\n",
       "    }\n",
       "\n",
       "    .dataframe thead th {\n",
       "        text-align: right;\n",
       "    }\n",
       "</style>\n",
       "<table border=\"1\" class=\"dataframe\">\n",
       "  <thead>\n",
       "    <tr style=\"text-align: right;\">\n",
       "      <th></th>\n",
       "      <th>average_salary</th>\n",
       "    </tr>\n",
       "    <tr>\n",
       "      <th>job_simp</th>\n",
       "      <th></th>\n",
       "    </tr>\n",
       "  </thead>\n",
       "  <tbody>\n",
       "    <tr>\n",
       "      <th>data scientist</th>\n",
       "      <td>166.225</td>\n",
       "    </tr>\n",
       "  </tbody>\n",
       "</table>\n",
       "</div>"
      ],
      "text/plain": [
       "                average_salary\n",
       "job_simp                      \n",
       "data scientist         166.225"
      ]
     },
     "execution_count": 34,
     "metadata": {},
     "output_type": "execute_result"
    }
   ],
   "source": [
    "pd.pivot_table(df, index=['job_simp'], values='average_salary')"
   ]
  },
  {
   "cell_type": "code",
   "execution_count": 37,
   "metadata": {},
   "outputs": [],
   "source": [
    "#pd.pivot_table(df, index='job_state', values='average_salary').sort_values('average_salary', ascending = False)"
   ]
  },
  {
   "cell_type": "code",
   "execution_count": 39,
   "metadata": {},
   "outputs": [],
   "source": [
    "pd.options.display.max_rows\n",
    "pd.set_option('display.max_rows',None)"
   ]
  },
  {
   "cell_type": "code",
   "execution_count": 41,
   "metadata": {},
   "outputs": [],
   "source": [
    "#pd.pivot_table(df, index=['job_state','job_simp'],values ='average_salary').sort_values('job_state',ascending= False)"
   ]
  },
  {
   "cell_type": "code",
   "execution_count": 43,
   "metadata": {},
   "outputs": [
    {
     "data": {
      "text/plain": [
       "Index(['Job Title', 'Salary Estimate', 'Job Description', 'Company Name',\n",
       "       'Location', 'Headquarters', 'Size', 'Founded', 'Type of ownership',\n",
       "       'Industry', 'Sector', 'Revenue', 'Competitors', 'hourly',\n",
       "       'employer_provided', 'min_salary', 'max_salary', 'average_salary',\n",
       "       'company_text', 'job_state', 'age', 'python_yn', 'RStudio_yn', 'spark',\n",
       "       'aws', 'excel', 'job_simp', 'seniority', 'desc_len'],\n",
       "      dtype='object')"
      ]
     },
     "execution_count": 43,
     "metadata": {},
     "output_type": "execute_result"
    }
   ],
   "source": [
    "df.columns"
   ]
  },
  {
   "cell_type": "code",
   "execution_count": 45,
   "metadata": {},
   "outputs": [],
   "source": [
    "#Industry,sector,revenue,hourly,employer_provided,python_yn,RStudio_yn,spark,aws,excel,desc_len"
   ]
  },
  {
   "cell_type": "code",
   "execution_count": 63,
   "metadata": {},
   "outputs": [],
   "source": [
    "df_pivots = df[['Industry','Sector','Revenue','hourly','employer_provided','average_salary','python_yn','RStudio_yn','spark','aws','excel','desc_len']]"
   ]
  },
  {
   "cell_type": "code",
   "execution_count": 69,
   "metadata": {},
   "outputs": [
    {
     "name": "stdout",
     "output_type": "stream",
     "text": [
      "Industry\n",
      "                                         average_salary\n",
      "Industry                                               \n",
      "-1                                           168.730303\n",
      "Accounting                                   168.500000\n",
      "Advertising & Marketing                      191.600000\n",
      "Aerospace & Defence                          150.666667\n",
      "Banks & Building Societies                   271.500000\n",
      "Biotech & Pharmaceuticals                    187.294118\n",
      "Colleges & Universities                      126.500000\n",
      "Computer Hardware & Software                 157.712963\n",
      "Consulting                                   134.250000\n",
      "Consumer Electronics & Appliance Shops       152.000000\n",
      "Department, Clothing, & Shoe Shops           178.333333\n",
      "Education Training Services                  149.250000\n",
      "Electrical & Electronic Manufacturing        188.375000\n",
      "Energy                                       161.333333\n",
      "Enterprise Software & Network Solutions      161.068182\n",
      "Express Delivery Services                    120.500000\n",
      "Farm Support Services                        144.000000\n",
      "Film Production & Distribution               126.500000\n",
      "Financial Analytics & Research               178.000000\n",
      "Financial Transaction Processing             126.500000\n",
      "Food & Beverage Shops                        142.250000\n",
      "Government Agencies                          149.125000\n",
      "Health, Beauty & Fitness                     168.500000\n",
      "Healthcare Services & Hospitals              167.038462\n",
      "IT Services                                  167.530769\n",
      "Insurance Agencies & Brokerages              159.666667\n",
      "Insurance Operators                          145.857143\n",
      "Internet                                     165.805243\n",
      "Investment Banking & Asset Management        120.500000\n",
      "Lending                                      171.571429\n",
      "Other Retail Shops                           178.000000\n",
      "Publishing                                   142.000000\n",
      "Real Estate                                  169.147619\n",
      "Regional & County Councils                   132.500000\n",
      "Research & Development                       153.500000\n",
      "Sporting Goods Shops                         120.500000\n",
      "Staffing & Outsourcing                       166.612500\n",
      "Telecommunications Services                  120.500000\n",
      "Transportation Equipment Manufacturing       155.785714\n",
      "Travel Agencies                              195.000000\n",
      "Utilities                                    153.500000\n",
      "Venture Capital & Private Equity             144.000000\n",
      "Video Games                                  160.000000\n",
      "Wholesale                                    146.833333\n",
      "Sector\n",
      "                              average_salary\n",
      "Sector                                      \n",
      "-1                                168.730303\n",
      "Accounting & Legal                168.500000\n",
      "Aerospace & Defence               150.666667\n",
      "Agriculture & Forestry            144.000000\n",
      "Biotech & Pharmaceuticals         187.294118\n",
      "Business Services                 166.033835\n",
      "Consumer Services                 168.500000\n",
      "Education                         141.666667\n",
      "Finance                           168.875000\n",
      "Government                        145.800000\n",
      "Healthcare                        167.038462\n",
      "Information Technology            165.135307\n",
      "Insurance                         150.000000\n",
      "Manufacturing                     167.636364\n",
      "Media                             150.555556\n",
      "Oil, Gas, Energy & Utilities      159.375000\n",
      "Real Estate                       169.147619\n",
      "Retail                            170.714286\n",
      "Telecommunications                120.500000\n",
      "Transportation & Logistics        120.500000\n",
      "Travel & Tourism                  195.000000\n",
      "Revenue\n",
      "                                  average_salary\n",
      "Revenue                                         \n",
      "-1                                    171.137931\n",
      "Unknown / Non-Applicable              167.502268\n",
      "₹1 to ₹5 billion (INR)                163.333333\n",
      "₹10 to ₹50 billion (INR)              165.546610\n",
      "₹10 to ₹50 million (INR)              170.416667\n",
      "₹100 to ₹500 billion (INR)            161.951613\n",
      "₹100 to ₹500 million (INR)            156.466667\n",
      "₹5 to ₹10 billion (INR)               165.858974\n",
      "₹50 to ₹100 billion (INR)             167.875000\n",
      "₹50 to ₹100 million (INR)             168.500000\n",
      "₹500 million to ₹1 billion (INR)      170.900000\n",
      "₹500+ billion (INR)                   164.427419\n",
      "hourly\n",
      "        average_salary\n",
      "hourly                \n",
      "0              166.225\n",
      "employer_provided\n",
      "                   average_salary\n",
      "employer_provided                \n",
      "0                         166.225\n",
      "average_salary\n"
     ]
    },
    {
     "ename": "ValueError",
     "evalue": "Grouper for 'average_salary' not 1-dimensional",
     "output_type": "error",
     "traceback": [
      "\u001b[1;31m---------------------------------------------------------------------------\u001b[0m",
      "\u001b[1;31mValueError\u001b[0m                                Traceback (most recent call last)",
      "\u001b[1;32m<ipython-input-69-c424ab8ec200>\u001b[0m in \u001b[0;36m<module>\u001b[1;34m\u001b[0m\n\u001b[0;32m      1\u001b[0m \u001b[1;32mfor\u001b[0m \u001b[0mi\u001b[0m \u001b[1;32min\u001b[0m \u001b[0mdf_pivots\u001b[0m\u001b[1;33m.\u001b[0m\u001b[0mcolumns\u001b[0m\u001b[1;33m:\u001b[0m\u001b[1;33m\u001b[0m\u001b[1;33m\u001b[0m\u001b[0m\n\u001b[0;32m      2\u001b[0m     \u001b[0mprint\u001b[0m\u001b[1;33m(\u001b[0m\u001b[0mi\u001b[0m\u001b[1;33m)\u001b[0m\u001b[1;33m\u001b[0m\u001b[1;33m\u001b[0m\u001b[0m\n\u001b[1;32m----> 3\u001b[1;33m     \u001b[0mprint\u001b[0m\u001b[1;33m(\u001b[0m\u001b[0mpd\u001b[0m\u001b[1;33m.\u001b[0m\u001b[0mpivot_table\u001b[0m\u001b[1;33m(\u001b[0m\u001b[0mdf_pivots\u001b[0m\u001b[1;33m,\u001b[0m \u001b[0mindex\u001b[0m \u001b[1;33m=\u001b[0m\u001b[0mi\u001b[0m\u001b[1;33m,\u001b[0m \u001b[0mvalues\u001b[0m\u001b[1;33m=\u001b[0m \u001b[1;34m'average_salary'\u001b[0m\u001b[1;33m)\u001b[0m\u001b[1;33m)\u001b[0m\u001b[1;33m\u001b[0m\u001b[1;33m\u001b[0m\u001b[0m\n\u001b[0m",
      "\u001b[1;32m~\\anaconda3\\lib\\site-packages\\pandas\\core\\reshape\\pivot.py\u001b[0m in \u001b[0;36mpivot_table\u001b[1;34m(data, values, index, columns, aggfunc, fill_value, margins, dropna, margins_name, observed)\u001b[0m\n\u001b[0;32m     98\u001b[0m         \u001b[0mvalues\u001b[0m \u001b[1;33m=\u001b[0m \u001b[0mlist\u001b[0m\u001b[1;33m(\u001b[0m\u001b[0mvalues\u001b[0m\u001b[1;33m)\u001b[0m\u001b[1;33m\u001b[0m\u001b[1;33m\u001b[0m\u001b[0m\n\u001b[0;32m     99\u001b[0m \u001b[1;33m\u001b[0m\u001b[0m\n\u001b[1;32m--> 100\u001b[1;33m     \u001b[0mgrouped\u001b[0m \u001b[1;33m=\u001b[0m \u001b[0mdata\u001b[0m\u001b[1;33m.\u001b[0m\u001b[0mgroupby\u001b[0m\u001b[1;33m(\u001b[0m\u001b[0mkeys\u001b[0m\u001b[1;33m,\u001b[0m \u001b[0mobserved\u001b[0m\u001b[1;33m=\u001b[0m\u001b[0mobserved\u001b[0m\u001b[1;33m)\u001b[0m\u001b[1;33m\u001b[0m\u001b[1;33m\u001b[0m\u001b[0m\n\u001b[0m\u001b[0;32m    101\u001b[0m     \u001b[0magged\u001b[0m \u001b[1;33m=\u001b[0m \u001b[0mgrouped\u001b[0m\u001b[1;33m.\u001b[0m\u001b[0magg\u001b[0m\u001b[1;33m(\u001b[0m\u001b[0maggfunc\u001b[0m\u001b[1;33m)\u001b[0m\u001b[1;33m\u001b[0m\u001b[1;33m\u001b[0m\u001b[0m\n\u001b[0;32m    102\u001b[0m     \u001b[1;32mif\u001b[0m \u001b[0mdropna\u001b[0m \u001b[1;32mand\u001b[0m \u001b[0misinstance\u001b[0m\u001b[1;33m(\u001b[0m\u001b[0magged\u001b[0m\u001b[1;33m,\u001b[0m \u001b[0mABCDataFrame\u001b[0m\u001b[1;33m)\u001b[0m \u001b[1;32mand\u001b[0m \u001b[0mlen\u001b[0m\u001b[1;33m(\u001b[0m\u001b[0magged\u001b[0m\u001b[1;33m.\u001b[0m\u001b[0mcolumns\u001b[0m\u001b[1;33m)\u001b[0m\u001b[1;33m:\u001b[0m\u001b[1;33m\u001b[0m\u001b[1;33m\u001b[0m\u001b[0m\n",
      "\u001b[1;32m~\\anaconda3\\lib\\site-packages\\pandas\\core\\frame.py\u001b[0m in \u001b[0;36mgroupby\u001b[1;34m(self, by, axis, level, as_index, sort, group_keys, squeeze, observed)\u001b[0m\n\u001b[0;32m   5808\u001b[0m             \u001b[0mgroup_keys\u001b[0m\u001b[1;33m=\u001b[0m\u001b[0mgroup_keys\u001b[0m\u001b[1;33m,\u001b[0m\u001b[1;33m\u001b[0m\u001b[1;33m\u001b[0m\u001b[0m\n\u001b[0;32m   5809\u001b[0m             \u001b[0msqueeze\u001b[0m\u001b[1;33m=\u001b[0m\u001b[0msqueeze\u001b[0m\u001b[1;33m,\u001b[0m\u001b[1;33m\u001b[0m\u001b[1;33m\u001b[0m\u001b[0m\n\u001b[1;32m-> 5810\u001b[1;33m             \u001b[0mobserved\u001b[0m\u001b[1;33m=\u001b[0m\u001b[0mobserved\u001b[0m\u001b[1;33m,\u001b[0m\u001b[1;33m\u001b[0m\u001b[1;33m\u001b[0m\u001b[0m\n\u001b[0m\u001b[0;32m   5811\u001b[0m         )\n\u001b[0;32m   5812\u001b[0m \u001b[1;33m\u001b[0m\u001b[0m\n",
      "\u001b[1;32m~\\anaconda3\\lib\\site-packages\\pandas\\core\\groupby\\groupby.py\u001b[0m in \u001b[0;36m__init__\u001b[1;34m(self, obj, keys, axis, level, grouper, exclusions, selection, as_index, sort, group_keys, squeeze, observed, mutated)\u001b[0m\n\u001b[0;32m    407\u001b[0m                 \u001b[0msort\u001b[0m\u001b[1;33m=\u001b[0m\u001b[0msort\u001b[0m\u001b[1;33m,\u001b[0m\u001b[1;33m\u001b[0m\u001b[1;33m\u001b[0m\u001b[0m\n\u001b[0;32m    408\u001b[0m                 \u001b[0mobserved\u001b[0m\u001b[1;33m=\u001b[0m\u001b[0mobserved\u001b[0m\u001b[1;33m,\u001b[0m\u001b[1;33m\u001b[0m\u001b[1;33m\u001b[0m\u001b[0m\n\u001b[1;32m--> 409\u001b[1;33m                 \u001b[0mmutated\u001b[0m\u001b[1;33m=\u001b[0m\u001b[0mself\u001b[0m\u001b[1;33m.\u001b[0m\u001b[0mmutated\u001b[0m\u001b[1;33m,\u001b[0m\u001b[1;33m\u001b[0m\u001b[1;33m\u001b[0m\u001b[0m\n\u001b[0m\u001b[0;32m    410\u001b[0m             )\n\u001b[0;32m    411\u001b[0m \u001b[1;33m\u001b[0m\u001b[0m\n",
      "\u001b[1;32m~\\anaconda3\\lib\\site-packages\\pandas\\core\\groupby\\grouper.py\u001b[0m in \u001b[0;36mget_grouper\u001b[1;34m(obj, key, axis, level, sort, observed, mutated, validate)\u001b[0m\n\u001b[0;32m    623\u001b[0m                 \u001b[0min_axis\u001b[0m\u001b[1;33m=\u001b[0m\u001b[0min_axis\u001b[0m\u001b[1;33m,\u001b[0m\u001b[1;33m\u001b[0m\u001b[1;33m\u001b[0m\u001b[0m\n\u001b[0;32m    624\u001b[0m             )\n\u001b[1;32m--> 625\u001b[1;33m             \u001b[1;32mif\u001b[0m \u001b[1;32mnot\u001b[0m \u001b[0misinstance\u001b[0m\u001b[1;33m(\u001b[0m\u001b[0mgpr\u001b[0m\u001b[1;33m,\u001b[0m \u001b[0mGrouping\u001b[0m\u001b[1;33m)\u001b[0m\u001b[1;33m\u001b[0m\u001b[1;33m\u001b[0m\u001b[0m\n\u001b[0m\u001b[0;32m    626\u001b[0m             \u001b[1;32melse\u001b[0m \u001b[0mgpr\u001b[0m\u001b[1;33m\u001b[0m\u001b[1;33m\u001b[0m\u001b[0m\n\u001b[0;32m    627\u001b[0m         )\n",
      "\u001b[1;32m~\\anaconda3\\lib\\site-packages\\pandas\\core\\groupby\\grouper.py\u001b[0m in \u001b[0;36m__init__\u001b[1;34m(self, index, grouper, obj, name, level, sort, observed, in_axis)\u001b[0m\n\u001b[0;32m    343\u001b[0m                 \u001b[1;32mif\u001b[0m \u001b[0mgetattr\u001b[0m\u001b[1;33m(\u001b[0m\u001b[0mself\u001b[0m\u001b[1;33m.\u001b[0m\u001b[0mgrouper\u001b[0m\u001b[1;33m,\u001b[0m \u001b[1;34m\"ndim\"\u001b[0m\u001b[1;33m,\u001b[0m \u001b[1;36m1\u001b[0m\u001b[1;33m)\u001b[0m \u001b[1;33m!=\u001b[0m \u001b[1;36m1\u001b[0m\u001b[1;33m:\u001b[0m\u001b[1;33m\u001b[0m\u001b[1;33m\u001b[0m\u001b[0m\n\u001b[0;32m    344\u001b[0m                     \u001b[0mt\u001b[0m \u001b[1;33m=\u001b[0m \u001b[0mself\u001b[0m\u001b[1;33m.\u001b[0m\u001b[0mname\u001b[0m \u001b[1;32mor\u001b[0m \u001b[0mstr\u001b[0m\u001b[1;33m(\u001b[0m\u001b[0mtype\u001b[0m\u001b[1;33m(\u001b[0m\u001b[0mself\u001b[0m\u001b[1;33m.\u001b[0m\u001b[0mgrouper\u001b[0m\u001b[1;33m)\u001b[0m\u001b[1;33m)\u001b[0m\u001b[1;33m\u001b[0m\u001b[1;33m\u001b[0m\u001b[0m\n\u001b[1;32m--> 345\u001b[1;33m                     \u001b[1;32mraise\u001b[0m \u001b[0mValueError\u001b[0m\u001b[1;33m(\u001b[0m\u001b[1;34mf\"Grouper for '{t}' not 1-dimensional\"\u001b[0m\u001b[1;33m)\u001b[0m\u001b[1;33m\u001b[0m\u001b[1;33m\u001b[0m\u001b[0m\n\u001b[0m\u001b[0;32m    346\u001b[0m                 \u001b[0mself\u001b[0m\u001b[1;33m.\u001b[0m\u001b[0mgrouper\u001b[0m \u001b[1;33m=\u001b[0m \u001b[0mself\u001b[0m\u001b[1;33m.\u001b[0m\u001b[0mindex\u001b[0m\u001b[1;33m.\u001b[0m\u001b[0mmap\u001b[0m\u001b[1;33m(\u001b[0m\u001b[0mself\u001b[0m\u001b[1;33m.\u001b[0m\u001b[0mgrouper\u001b[0m\u001b[1;33m)\u001b[0m\u001b[1;33m\u001b[0m\u001b[1;33m\u001b[0m\u001b[0m\n\u001b[0;32m    347\u001b[0m                 if not (\n",
      "\u001b[1;31mValueError\u001b[0m: Grouper for 'average_salary' not 1-dimensional"
     ]
    }
   ],
   "source": [
    "for i in df_pivots.columns:\n",
    "    print(i)\n",
    "    print(pd.pivot_table(df_pivots, index =i, values= 'average_salary'))"
   ]
  },
  {
   "cell_type": "code",
   "execution_count": 72,
   "metadata": {},
   "outputs": [
    {
     "data": {
      "text/html": [
       "<div>\n",
       "<style scoped>\n",
       "    .dataframe tbody tr th:only-of-type {\n",
       "        vertical-align: middle;\n",
       "    }\n",
       "\n",
       "    .dataframe tbody tr th {\n",
       "        vertical-align: top;\n",
       "    }\n",
       "\n",
       "    .dataframe thead th {\n",
       "        text-align: right;\n",
       "    }\n",
       "</style>\n",
       "<table border=\"1\" class=\"dataframe\">\n",
       "  <thead>\n",
       "    <tr style=\"text-align: right;\">\n",
       "      <th>python_yn</th>\n",
       "      <th>0</th>\n",
       "      <th>1</th>\n",
       "    </tr>\n",
       "    <tr>\n",
       "      <th>Revenue</th>\n",
       "      <th></th>\n",
       "      <th></th>\n",
       "    </tr>\n",
       "  </thead>\n",
       "  <tbody>\n",
       "    <tr>\n",
       "      <th>-1</th>\n",
       "      <td>8.0</td>\n",
       "      <td>21.0</td>\n",
       "    </tr>\n",
       "    <tr>\n",
       "      <th>Unknown / Non-Applicable</th>\n",
       "      <td>26.0</td>\n",
       "      <td>415.0</td>\n",
       "    </tr>\n",
       "    <tr>\n",
       "      <th>₹1 to ₹5 billion (INR)</th>\n",
       "      <td>6.0</td>\n",
       "      <td>24.0</td>\n",
       "    </tr>\n",
       "    <tr>\n",
       "      <th>₹10 to ₹50 billion (INR)</th>\n",
       "      <td>102.0</td>\n",
       "      <td>16.0</td>\n",
       "    </tr>\n",
       "    <tr>\n",
       "      <th>₹10 to ₹50 million (INR)</th>\n",
       "      <td>1.0</td>\n",
       "      <td>11.0</td>\n",
       "    </tr>\n",
       "    <tr>\n",
       "      <th>₹100 to ₹500 billion (INR)</th>\n",
       "      <td>3.0</td>\n",
       "      <td>28.0</td>\n",
       "    </tr>\n",
       "    <tr>\n",
       "      <th>₹100 to ₹500 million (INR)</th>\n",
       "      <td>3.0</td>\n",
       "      <td>12.0</td>\n",
       "    </tr>\n",
       "    <tr>\n",
       "      <th>₹5 to ₹10 billion (INR)</th>\n",
       "      <td>2.0</td>\n",
       "      <td>115.0</td>\n",
       "    </tr>\n",
       "    <tr>\n",
       "      <th>₹50 to ₹100 billion (INR)</th>\n",
       "      <td>2.0</td>\n",
       "      <td>6.0</td>\n",
       "    </tr>\n",
       "    <tr>\n",
       "      <th>₹50 to ₹100 million (INR)</th>\n",
       "      <td>NaN</td>\n",
       "      <td>3.0</td>\n",
       "    </tr>\n",
       "    <tr>\n",
       "      <th>₹500 million to ₹1 billion (INR)</th>\n",
       "      <td>NaN</td>\n",
       "      <td>10.0</td>\n",
       "    </tr>\n",
       "    <tr>\n",
       "      <th>₹500+ billion (INR)</th>\n",
       "      <td>20.0</td>\n",
       "      <td>166.0</td>\n",
       "    </tr>\n",
       "  </tbody>\n",
       "</table>\n",
       "</div>"
      ],
      "text/plain": [
       "python_yn                             0      1\n",
       "Revenue                                       \n",
       "-1                                  8.0   21.0\n",
       "Unknown / Non-Applicable           26.0  415.0\n",
       "₹1 to ₹5 billion (INR)              6.0   24.0\n",
       "₹10 to ₹50 billion (INR)          102.0   16.0\n",
       "₹10 to ₹50 million (INR)            1.0   11.0\n",
       "₹100 to ₹500 billion (INR)          3.0   28.0\n",
       "₹100 to ₹500 million (INR)          3.0   12.0\n",
       "₹5 to ₹10 billion (INR)             2.0  115.0\n",
       "₹50 to ₹100 billion (INR)           2.0    6.0\n",
       "₹50 to ₹100 million (INR)           NaN    3.0\n",
       "₹500 million to ₹1 billion (INR)    NaN   10.0\n",
       "₹500+ billion (INR)                20.0  166.0"
      ]
     },
     "execution_count": 72,
     "metadata": {},
     "output_type": "execute_result"
    }
   ],
   "source": [
    "pd.pivot_table(df_pivots, index ='Revenue', columns = 'python_yn', values ='average_salary',aggfunc='count')"
   ]
  },
  {
   "cell_type": "code",
   "execution_count": null,
   "metadata": {},
   "outputs": [],
   "source": []
  }
 ],
 "metadata": {
  "kernelspec": {
   "display_name": "Python 3",
   "language": "python",
   "name": "python3"
  },
  "language_info": {
   "codemirror_mode": {
    "name": "ipython",
    "version": 3
   },
   "file_extension": ".py",
   "mimetype": "text/x-python",
   "name": "python",
   "nbconvert_exporter": "python",
   "pygments_lexer": "ipython3",
   "version": "3.7.6"
  }
 },
 "nbformat": 4,
 "nbformat_minor": 4
}
